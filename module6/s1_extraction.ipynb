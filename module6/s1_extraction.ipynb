{
 "metadata": {
  "language_info": {
   "codemirror_mode": {
    "name": "ipython",
    "version": 3
   },
   "file_extension": ".py",
   "mimetype": "text/x-python",
   "name": "python",
   "nbconvert_exporter": "python",
   "pygments_lexer": "ipython3",
   "version": "3.7.3-final"
  },
  "orig_nbformat": 2,
  "kernelspec": {
   "name": "python3",
   "display_name": "Python 3"
  }
 },
 "nbformat": 4,
 "nbformat_minor": 2,
 "cells": [
  {
   "source": [
    "# Extract text from various types of files"
   ],
   "cell_type": "markdown",
   "metadata": {}
  },
  {
   "cell_type": "code",
   "execution_count": 1,
   "metadata": {},
   "outputs": [],
   "source": [
    "import os\n",
    "import textract"
   ]
  },
  {
   "source": [
    "Nous allons lister tous les fichiers dans le dossier `dummy`"
   ],
   "cell_type": "markdown",
   "metadata": {}
  },
  {
   "cell_type": "code",
   "execution_count": 2,
   "metadata": {},
   "outputs": [
    {
     "output_type": "stream",
     "name": "stdout",
     "text": [
      "['test.docx', 'test.pptx', 'test.mp3', 'test.jpg', 'test.png', 'test.pdf', 'test.xlsx', 'test.txt', 'test.rtf', 'test.odt']\n"
     ]
    }
   ],
   "source": [
    "path = 'dummy/'\n",
    "files = os.listdir(path)\n",
    "print(files)"
   ]
  },
  {
   "source": [
    "Pour chaque fichier (Word, PowerPoint, MP3, etc.) nous allons extraire le texte avec une boucle `for`.\n",
    "\n",
    "\n",
    "**Important**, si vous recevez le message d'erreur suivant `The command XXX dummy/test.XXX stdout failed because the executable XXX is not installed on your system`, lisez bien la documentation ici :\n",
    "\n",
    "https://textract.readthedocs.io/en/latest/installation.html\n",
    "\n",
    "Exécutez ces trois commandes sur MacOs\n",
    "- `brew cask install xquartz`\n",
    "- `brew install poppler antiword unrtf tesseract swig sox`\n",
    "- `pip install textrac`\n",
    "\n",
    "Et ceci sur Linux\n",
    "- `apt-get install python-dev libxml2-dev libxslt1-dev antiword unrtf poppler-utils pstotext tesseract-ocr flac ffmpeg lame libmad0 libsox-fmt-mp3 sox libjpeg-dev swig libpulse-dev`\n",
    "- `pip install textract`\n",
    "\n",
    "Certains messages d'erreurs peuvent apparaîtres, vous devrez probablement ouvrir les droits en lecture de certains fichiers avec la commande `chmod`.\n"
   ],
   "cell_type": "markdown",
   "metadata": {}
  },
  {
   "cell_type": "code",
   "execution_count": 3,
   "metadata": {},
   "outputs": [
    {
     "output_type": "stream",
     "name": "stdout",
     "text": [
      "Ceci est un document docx.\n",
      "Ceci est un document jpg.\n",
      "this is an MP3 documents\n",
      "Ceci est un document odt.\n",
      "Ceci est un document pdf.\n",
      "Ceci est un document png.\n",
      "Ceci est un document pptx.\n",
      "Ceci est un document rtf.\n",
      "Ceci est un document txt.\n",
      "Ceci est un document xlsx.\n"
     ]
    }
   ],
   "source": [
    "for f in sorted(files):\n",
    "    text = textract.process(path+f)\n",
    "    print(text.decode('utf-8').strip())"
   ]
  },
  {
   "cell_type": "code",
   "execution_count": 4,
   "metadata": {},
   "outputs": [
    {
     "output_type": "stream",
     "name": "stdout",
     "text": [
      "Ceci est un document docx.\n",
      "Ceci est un document jpg.\n",
      "this is an MP3 documents\n",
      "Ceci est un document odt.\n",
      "Ceci est un document pdf.\n",
      "Ceci est un document png.\n",
      "Ceci est un document pptx.\n",
      "Ceci est un document rtf.\n",
      "Ceci est un document txt.\n",
      "Ceci est un document xlsx.\n"
     ]
    }
   ],
   "source": [
    "for f in sorted(files):\n",
    "    text = textract.process(path+f)\n",
    "    print(text.decode('utf-8').strip())"
   ]
  },
  {
   "cell_type": "code",
   "execution_count": null,
   "metadata": {},
   "outputs": [],
   "source": []
  }
 ]
}